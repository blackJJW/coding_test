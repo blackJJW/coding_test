{
 "cells": [
  {
   "cell_type": "markdown",
   "id": "fc8794ef",
   "metadata": {},
   "source": [
    "# 6009 : [기초-입출력] 문자 1개 입력받아 그대로 출력하기(설명)(py)"
   ]
  },
  {
   "cell_type": "markdown",
   "id": "076c5909",
   "metadata": {},
   "source": [
    "## 문제 설명\n",
    "문자(character)는\n",
    "0~9, a~z, A~Z, !, @, #, {, [, <, ... 과 같이 \n",
    "길이가 1인 기호라고 할 수 있다.\n",
    "\n",
    "변수에 문자 1개를 저장한 후\n",
    "변수에 저장되어 있는 문자를 그대로 출력해보자.\n",
    "\n",
    "예시  \n",
    "c = input()  \n",
    "print(c)\n",
    "\n",
    "와 같은 형태로 가능하다.\n",
    "\n",
    "참고\n",
    "input() 을 사용하면 키보드로 입력한 값을 가져온다.\n",
    "변수 = input()\n",
    "를 실행시키면 키보드로 입력한 값을 왼쪽의 변수에 저장한다.\n",
    "\n",
    "변수(variable)는 어떤 값(정수, 실수, 문자, 문자열 등)을 저장할 수 있는 공간의 별명이라고 할 수 있다.\n",
    "어떤 값을 저장했다가 다시 사용하기 위해서 변수를 사용한다. 저장할 내용들이 많으면 필요한 만큼 변수를 만들어 사용하면 된다.\n",
    "변수는 포스트 잇과 같은 메모지에 필요한 내용을 적어두었다가, 필요할 때 찾아 살펴보는 것과 비슷하다.\n",
    "\n",
    "대수학(algebra)에서는 어떤 수나 값을 대신해 문자로 표현하는 방법을 사용한다.\n",
    "프로그래밍언어에서도 마찬가지로 자신이 알아보기 쉬운 짧은 단어를 사용하는 것이 좋다. 예시) y = x + 3\n"
   ]
  },
  {
   "cell_type": "markdown",
   "id": "fd1d59c0",
   "metadata": {},
   "source": [
    "### 입력 예시\n",
    "문자 1개가 입력\n",
    "\n",
    "### 출력 예시\n",
    "입력된 문자를 그대로 출력"
   ]
  },
  {
   "cell_type": "code",
   "execution_count": 1,
   "id": "63b9a9e0",
   "metadata": {},
   "outputs": [
    {
     "name": "stdout",
     "output_type": "stream",
     "text": [
      "j\n",
      "j\n"
     ]
    }
   ],
   "source": [
    "a = input()\n",
    "print(a)"
   ]
  },
  {
   "cell_type": "markdown",
   "id": "f53dc5d6",
   "metadata": {},
   "source": [
    "# 6010 : [기초-입출력] 정수 1개 입력받아 int로 변환하여 출력하기(설명)(py)"
   ]
  },
  {
   "cell_type": "markdown",
   "id": "07b0bcb9",
   "metadata": {},
   "source": [
    "## 문제 설명\n",
    "정수(integer)는\n",
    "양의 정수(1, 2, 3, 4, 5, ...), 음의 정수(-1, -2, -3, -4, -5, ...), 0 과 같이\n",
    "소숫점 아래에 수가 없는 수라고 할 수 있다.\n",
    "\n",
    "변수에 정수값을 저장한 후 정수로 변환하여 출력해보자.\n",
    "\n",
    "예시  \n",
    "n = input()  \n",
    "n = int(n)  \n",
    "print(n)\n",
    "와 같은 형태로 가능하다.\n",
    "\n",
    "참고\n",
    "input() 을 사용하면 키보드로 입력(input)한 값을 가져온다.\n",
    "\n",
    " \n",
    "\n",
    "변수 = input()\n",
    "를 실행시키면 키보드로 입력한 값을 왼쪽의 변수에 저장(할당, asign) 한다.\n",
    "\n",
    "변수는 어떤 값(정수, 실수, 문자, 문자열 등)을 저장할 수 있는 공간의 별명이라고 할 수 있다.\n",
    "변수는 일반적으로 알파벳(a~z, A~Z)이나 언더라인 '_'으로 시작하는 단어를 사용하고, 숫자(0~9)로 시작하는 단어는 사용할 수 없다.\n",
    "숫자로 시작하는 단어는 수로 인식하기 때문이다.\n",
    "(python의 경우 한글 변수도 사용할 수 있지만, 영문을 사용하는 것이 예상하지 못하는 오류를 방지할 수 있다.)\n",
    "\n",
    "'=' 연산자는 오른쪽의 계산 결과 값을 왼쪽의 변수에 저장하라는 의미의 대입연산자이다.\n",
    "왼쪽의 결과값과 오른쪽의 결과값이 같다는 의미의 수학식의 등호와는 의미가 다르다. "
   ]
  },
  {
   "cell_type": "markdown",
   "id": "4148abaf",
   "metadata": {},
   "source": [
    "### 입력 예시\n",
    "정수 1개가 입력\n",
    "\n",
    "### 출력 예시\n",
    "입력된 수를 정수로 변환하여 출력"
   ]
  },
  {
   "cell_type": "code",
   "execution_count": 2,
   "id": "d2999e36",
   "metadata": {},
   "outputs": [
    {
     "name": "stdout",
     "output_type": "stream",
     "text": [
      "1\n",
      "1\n"
     ]
    }
   ],
   "source": [
    "a = input()\n",
    "a = int(a)\n",
    "print(a)\n"
   ]
  },
  {
   "cell_type": "markdown",
   "id": "44b4a611",
   "metadata": {},
   "source": [
    "# 6011 : [기초-입출력] 실수 1개 입력받아 변환하여 출력하기(설명)(py)"
   ]
  },
  {
   "cell_type": "markdown",
   "id": "630ba629",
   "metadata": {},
   "source": [
    "## 문제 설명\n",
    "숫자(0~9)와 소수점(.)을 사용해 표현한 수를 실수(real number)라고 한다.\n",
    "\n",
    "변수에 실수값을 저장한 후\n",
    "변수에 저장되어 있는 값을 그대로 출력해보자.\n",
    "\n",
    "예시  \n",
    "f = input()  \n",
    "f = float(f)  \n",
    "print(f)  \n",
    "와 같은 형태로 가능하다.\n",
    "\n",
    "참고\n",
    "어떤 값을 1개 입력받아 계산하거나 처리해야하는 경우라면, 입력되는 값이 수인지 문자열인지 구분해야한다.\n",
    "조금 생각해보면, 키보드로 입력한 9라는 값이 문자 9인지, 정수 9인지, 실수 9.0인지 컴퓨터가 스스로 구분하지 못한다는 것을 알 수 있다.\n",
    "컴퓨터 내부에서는 2진 체계의 디지털 형태로만 저장할 수 있기 때문에 정수, 문자, 실수 등의 저장 방법이 다르다.\n",
    "입력한 값을 원하는 형태로 계산하거나 처리하기 위해서는 입력한 값이 어떤 데이터(정수, 문자, 실수, 문자열 등)인지 명확히 구분해 주어야 한다."
   ]
  },
  {
   "cell_type": "markdown",
   "id": "32f47439",
   "metadata": {},
   "source": [
    "### 입력 예시\n",
    "실수 1개가 입력\n",
    "\n",
    "### 출력 예시\n",
    "입력된 수를 실수로 변환하여 출력"
   ]
  },
  {
   "cell_type": "code",
   "execution_count": 3,
   "id": "af913376",
   "metadata": {},
   "outputs": [
    {
     "name": "stdout",
     "output_type": "stream",
     "text": [
      "1\n",
      "1.0\n"
     ]
    }
   ],
   "source": [
    "a = input()\n",
    "a = float(a)\n",
    "print(a)"
   ]
  },
  {
   "cell_type": "markdown",
   "id": "1947101f",
   "metadata": {},
   "source": [
    "# 6012 : [기초-입출력] 정수 2개 입력받아 그대로 출력하기1(설명)(py)"
   ]
  },
  {
   "cell_type": "markdown",
   "id": "aeb47154",
   "metadata": {},
   "source": [
    "## 문제 설명\n",
    "줄을 바꿔 정수(integer) 2개를 입력받아 줄을 바꿔 출력해보자.\n",
    "\n",
    "예시  \n",
    "a = input()  \n",
    "b = input()   \n",
    "print(a)  \n",
    "print(b)  \n",
    "과 같은 방법으로 가능하다.\n"
   ]
  },
  {
   "cell_type": "markdown",
   "id": "fcaba99f",
   "metadata": {},
   "source": [
    "### 입력 예시\n",
    "2개의 정수가 줄을 바꿔 입력\n",
    "\n",
    "### 출력 예시\n",
    "입력된 주 정수를 줄을 바꿔 출력"
   ]
  },
  {
   "cell_type": "code",
   "execution_count": 4,
   "id": "8134ba1c",
   "metadata": {},
   "outputs": [
    {
     "name": "stdout",
     "output_type": "stream",
     "text": [
      "1\n",
      "2\n",
      "1\n",
      "2\n"
     ]
    }
   ],
   "source": [
    "a = int(input())\n",
    "b = int(input())\n",
    "\n",
    "print(a)\n",
    "print(b)"
   ]
  },
  {
   "cell_type": "markdown",
   "id": "ba23eb57",
   "metadata": {},
   "source": [
    "# 6013 : [기초-입출력] 문자 2개 입력받아 순서 바꿔 출력하기1(py)"
   ]
  },
  {
   "cell_type": "markdown",
   "id": "3ed6641a",
   "metadata": {},
   "source": [
    "## 문제 설명\n",
    "줄을 바꿔 문자(character) 2개를 입력받고, 순서를 바꿔 한 줄씩 출력해보자."
   ]
  },
  {
   "cell_type": "markdown",
   "id": "92cc50b4",
   "metadata": {},
   "source": [
    "### 입력 예시\n",
    "2개의 문자가 줄을 바꿔 입력\n",
    "\n",
    "### 출력 예시\n",
    "순서를 바꿔 한 줄에 한 문자씩 출력"
   ]
  },
  {
   "cell_type": "code",
   "execution_count": 5,
   "id": "1cf014b8",
   "metadata": {},
   "outputs": [
    {
     "name": "stdout",
     "output_type": "stream",
     "text": [
      "a\n",
      "b\n",
      "b\n",
      "a\n"
     ]
    }
   ],
   "source": [
    "a = input()\n",
    "b = input()\n",
    "\n",
    "print(b)\n",
    "print(a)"
   ]
  },
  {
   "cell_type": "markdown",
   "id": "f54bf47b",
   "metadata": {},
   "source": [
    "# 6014 : [기초-입출력] 실수 1개 입력받아 3번 출력하기(py)"
   ]
  },
  {
   "cell_type": "markdown",
   "id": "d9262b54",
   "metadata": {},
   "source": [
    "## 문제 설명\n",
    "실수(real number) 1개를 입력받아 줄을 바꿔 3번 출력해보자.\n",
    "\n",
    "예시  \n",
    "...  \n",
    "print(f)  #f에 저장되어있는 값을 출력하고 줄을 바꾼다.  \n",
    "print(f)  \n",
    "print(f)  \n",
    "와 같은 방법으로 3번 줄을 바꿔 출력할 수 있다.  \n",
    "\n",
    "참고  \n",
    "python 코드 사이에 설명(주석)을 작성해 넣고 싶은 경우 샵('#') 기호를 사용하면 된다.\n",
    "#가 시작된 위치부터 그 줄을 마지막까지는 python 인터프리터에 의해서 실행되지 않는다.\n",
    "소스코드 부분 부분에 설명, 내용, 표시를 한 줄 설명으로 넣을 경우에 편리하게 사용할 수 있다.\n",
    "여러 줄로 설명을 넣는 방법도 있다. 스스로 찾아보자!"
   ]
  },
  {
   "cell_type": "markdown",
   "id": "99998c4e",
   "metadata": {},
   "source": [
    "### 입력 예시\n",
    "실수 1개가 입력\n",
    "\n",
    "### 출력 예시\n",
    "입력받은 실수를 줄을 바꿔 3번 출력"
   ]
  },
  {
   "cell_type": "code",
   "execution_count": 6,
   "id": "702d3cfe",
   "metadata": {},
   "outputs": [
    {
     "name": "stdout",
     "output_type": "stream",
     "text": [
      "1.1\n",
      "1.1\n",
      "1.1\n",
      "1.1\n"
     ]
    }
   ],
   "source": [
    "a = input()\n",
    "\n",
    "print(a)\n",
    "print(a)\n",
    "print(a)"
   ]
  },
  {
   "cell_type": "code",
   "execution_count": null,
   "id": "4d2019ee",
   "metadata": {},
   "outputs": [],
   "source": []
  },
  {
   "cell_type": "code",
   "execution_count": null,
   "id": "0fe654bf",
   "metadata": {},
   "outputs": [],
   "source": []
  }
 ],
 "metadata": {
  "kernelspec": {
   "display_name": "Python 3 (ipykernel)",
   "language": "python",
   "name": "python3"
  },
  "language_info": {
   "codemirror_mode": {
    "name": "ipython",
    "version": 3
   },
   "file_extension": ".py",
   "mimetype": "text/x-python",
   "name": "python",
   "nbconvert_exporter": "python",
   "pygments_lexer": "ipython3",
   "version": "3.9.7"
  }
 },
 "nbformat": 4,
 "nbformat_minor": 5
}
