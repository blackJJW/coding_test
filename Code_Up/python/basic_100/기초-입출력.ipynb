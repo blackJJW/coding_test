{
 "cells": [
  {
   "cell_type": "markdown",
   "metadata": {},
   "source": [
    "# 6009 : [기초-입출력] 문자 1개 입력받아 그대로 출력하기(설명)(py)"
   ]
  },
  {
   "cell_type": "markdown",
   "metadata": {},
   "source": [
    "## 문제 설명\n",
    "문자(character)는\n",
    "0~9, a~z, A~Z, !, @, #, {, [, <, ... 과 같이 \n",
    "길이가 1인 기호라고 할 수 있다.\n",
    "\n",
    "변수에 문자 1개를 저장한 후\n",
    "변수에 저장되어 있는 문자를 그대로 출력해보자.\n",
    "\n",
    "예시  \n",
    "c = input()  \n",
    "print(c)\n",
    "\n",
    "와 같은 형태로 가능하다.\n",
    "\n",
    "참고\n",
    "input() 을 사용하면 키보드로 입력한 값을 가져온다.\n",
    "변수 = input()\n",
    "를 실행시키면 키보드로 입력한 값을 왼쪽의 변수에 저장한다.\n",
    "\n",
    "변수(variable)는 어떤 값(정수, 실수, 문자, 문자열 등)을 저장할 수 있는 공간의 별명이라고 할 수 있다.\n",
    "어떤 값을 저장했다가 다시 사용하기 위해서 변수를 사용한다. 저장할 내용들이 많으면 필요한 만큼 변수를 만들어 사용하면 된다.\n",
    "변수는 포스트 잇과 같은 메모지에 필요한 내용을 적어두었다가, 필요할 때 찾아 살펴보는 것과 비슷하다.\n",
    "\n",
    "대수학(algebra)에서는 어떤 수나 값을 대신해 문자로 표현하는 방법을 사용한다.\n",
    "프로그래밍언어에서도 마찬가지로 자신이 알아보기 쉬운 짧은 단어를 사용하는 것이 좋다. 예시) y = x + 3\n"
   ]
  },
  {
   "cell_type": "markdown",
   "metadata": {},
   "source": [
    "### 입력 예시\n",
    "문자 1개가 입력\n",
    "\n",
    "### 출력 예시\n",
    "입력된 문자를 그대로 출력"
   ]
  },
  {
   "cell_type": "code",
   "execution_count": 1,
   "metadata": {},
   "outputs": [
    {
     "name": "stdout",
     "output_type": "stream",
     "text": [
      "j\n",
      "j\n"
     ]
    }
   ],
   "source": [
    "a = input()\n",
    "print(a)"
   ]
  },
  {
   "cell_type": "markdown",
   "metadata": {},
   "source": [
    "# 6010 : [기초-입출력] 정수 1개 입력받아 int로 변환하여 출력하기(설명)(py)"
   ]
  },
  {
   "cell_type": "markdown",
   "metadata": {},
   "source": [
    "## 문제 설명\n",
    "정수(integer)는\n",
    "양의 정수(1, 2, 3, 4, 5, ...), 음의 정수(-1, -2, -3, -4, -5, ...), 0 과 같이\n",
    "소숫점 아래에 수가 없는 수라고 할 수 있다.\n",
    "\n",
    "변수에 정수값을 저장한 후 정수로 변환하여 출력해보자.\n",
    "\n",
    "예시  \n",
    "n = input()  \n",
    "n = int(n)  \n",
    "print(n)\n",
    "와 같은 형태로 가능하다.\n",
    "\n",
    "참고\n",
    "input() 을 사용하면 키보드로 입력(input)한 값을 가져온다.\n",
    "\n",
    " \n",
    "\n",
    "변수 = input()\n",
    "를 실행시키면 키보드로 입력한 값을 왼쪽의 변수에 저장(할당, asign) 한다.\n",
    "\n",
    "변수는 어떤 값(정수, 실수, 문자, 문자열 등)을 저장할 수 있는 공간의 별명이라고 할 수 있다.\n",
    "변수는 일반적으로 알파벳(a~z, A~Z)이나 언더라인 '_'으로 시작하는 단어를 사용하고, 숫자(0~9)로 시작하는 단어는 사용할 수 없다.\n",
    "숫자로 시작하는 단어는 수로 인식하기 때문이다.\n",
    "(python의 경우 한글 변수도 사용할 수 있지만, 영문을 사용하는 것이 예상하지 못하는 오류를 방지할 수 있다.)\n",
    "\n",
    "'=' 연산자는 오른쪽의 계산 결과 값을 왼쪽의 변수에 저장하라는 의미의 대입연산자이다.\n",
    "왼쪽의 결과값과 오른쪽의 결과값이 같다는 의미의 수학식의 등호와는 의미가 다르다. "
   ]
  },
  {
   "cell_type": "markdown",
   "metadata": {},
   "source": [
    "### 입력 예시\n",
    "정수 1개가 입력\n",
    "\n",
    "### 출력 예시\n",
    "입력된 수를 정수로 변환하여 출력"
   ]
  },
  {
   "cell_type": "code",
   "execution_count": 2,
   "metadata": {},
   "outputs": [
    {
     "name": "stdout",
     "output_type": "stream",
     "text": [
      "1\n",
      "1\n"
     ]
    }
   ],
   "source": [
    "a = input()\n",
    "a = int(a)\n",
    "print(a)\n"
   ]
  },
  {
   "cell_type": "markdown",
   "metadata": {},
   "source": [
    "# 6011 : [기초-입출력] 실수 1개 입력받아 변환하여 출력하기(설명)(py)"
   ]
  },
  {
   "cell_type": "markdown",
   "metadata": {},
   "source": [
    "## 문제 설명\n",
    "숫자(0~9)와 소수점(.)을 사용해 표현한 수를 실수(real number)라고 한다.\n",
    "\n",
    "변수에 실수값을 저장한 후\n",
    "변수에 저장되어 있는 값을 그대로 출력해보자.\n",
    "\n",
    "예시  \n",
    "f = input()  \n",
    "f = float(f)  \n",
    "print(f)  \n",
    "와 같은 형태로 가능하다.\n",
    "\n",
    "참고\n",
    "어떤 값을 1개 입력받아 계산하거나 처리해야하는 경우라면, 입력되는 값이 수인지 문자열인지 구분해야한다.\n",
    "조금 생각해보면, 키보드로 입력한 9라는 값이 문자 9인지, 정수 9인지, 실수 9.0인지 컴퓨터가 스스로 구분하지 못한다는 것을 알 수 있다.\n",
    "컴퓨터 내부에서는 2진 체계의 디지털 형태로만 저장할 수 있기 때문에 정수, 문자, 실수 등의 저장 방법이 다르다.\n",
    "입력한 값을 원하는 형태로 계산하거나 처리하기 위해서는 입력한 값이 어떤 데이터(정수, 문자, 실수, 문자열 등)인지 명확히 구분해 주어야 한다."
   ]
  },
  {
   "cell_type": "markdown",
   "metadata": {},
   "source": [
    "### 입력 예시\n",
    "실수 1개가 입력\n",
    "\n",
    "### 출력 예시\n",
    "입력된 수를 실수로 변환하여 출력"
   ]
  },
  {
   "cell_type": "code",
   "execution_count": 3,
   "metadata": {},
   "outputs": [
    {
     "name": "stdout",
     "output_type": "stream",
     "text": [
      "1\n",
      "1.0\n"
     ]
    }
   ],
   "source": [
    "a = input()\n",
    "a = float(a)\n",
    "print(a)"
   ]
  },
  {
   "cell_type": "markdown",
   "metadata": {},
   "source": [
    "# 6012 : [기초-입출력] 정수 2개 입력받아 그대로 출력하기1(설명)(py)"
   ]
  },
  {
   "cell_type": "markdown",
   "metadata": {},
   "source": [
    "## 문제 설명\n",
    "줄을 바꿔 정수(integer) 2개를 입력받아 줄을 바꿔 출력해보자.\n",
    "\n",
    "예시  \n",
    "a = input()  \n",
    "b = input()   \n",
    "print(a)  \n",
    "print(b)  \n",
    "과 같은 방법으로 가능하다.\n"
   ]
  },
  {
   "cell_type": "markdown",
   "metadata": {},
   "source": [
    "### 입력 예시\n",
    "2개의 정수가 줄을 바꿔 입력\n",
    "\n",
    "### 출력 예시\n",
    "입력된 주 정수를 줄을 바꿔 출력"
   ]
  },
  {
   "cell_type": "code",
   "execution_count": 4,
   "metadata": {},
   "outputs": [
    {
     "name": "stdout",
     "output_type": "stream",
     "text": [
      "1\n",
      "2\n",
      "1\n",
      "2\n"
     ]
    }
   ],
   "source": [
    "a = int(input())\n",
    "b = int(input())\n",
    "\n",
    "print(a)\n",
    "print(b)"
   ]
  },
  {
   "cell_type": "markdown",
   "metadata": {},
   "source": [
    "# 6013 : [기초-입출력] 문자 2개 입력받아 순서 바꿔 출력하기1(py)"
   ]
  },
  {
   "cell_type": "markdown",
   "metadata": {},
   "source": [
    "## 문제 설명\n",
    "줄을 바꿔 문자(character) 2개를 입력받고, 순서를 바꿔 한 줄씩 출력해보자."
   ]
  },
  {
   "cell_type": "markdown",
   "metadata": {},
   "source": [
    "### 입력 예시\n",
    "2개의 문자가 줄을 바꿔 입력\n",
    "\n",
    "### 출력 예시\n",
    "순서를 바꿔 한 줄에 한 문자씩 출력"
   ]
  },
  {
   "cell_type": "code",
   "execution_count": 5,
   "metadata": {},
   "outputs": [
    {
     "name": "stdout",
     "output_type": "stream",
     "text": [
      "a\n",
      "b\n",
      "b\n",
      "a\n"
     ]
    }
   ],
   "source": [
    "a = input()\n",
    "b = input()\n",
    "\n",
    "print(b)\n",
    "print(a)"
   ]
  },
  {
   "cell_type": "markdown",
   "metadata": {},
   "source": [
    "# 6014 : [기초-입출력] 실수 1개 입력받아 3번 출력하기(py)"
   ]
  },
  {
   "cell_type": "markdown",
   "metadata": {},
   "source": [
    "## 문제 설명\n",
    "실수(real number) 1개를 입력받아 줄을 바꿔 3번 출력해보자.\n",
    "\n",
    "예시  \n",
    "...  \n",
    "print(f)  #f에 저장되어있는 값을 출력하고 줄을 바꾼다.  \n",
    "print(f)  \n",
    "print(f)  \n",
    "와 같은 방법으로 3번 줄을 바꿔 출력할 수 있다.  \n",
    "\n",
    "참고  \n",
    "python 코드 사이에 설명(주석)을 작성해 넣고 싶은 경우 샵('#') 기호를 사용하면 된다.\n",
    "#가 시작된 위치부터 그 줄을 마지막까지는 python 인터프리터에 의해서 실행되지 않는다.\n",
    "소스코드 부분 부분에 설명, 내용, 표시를 한 줄 설명으로 넣을 경우에 편리하게 사용할 수 있다.\n",
    "여러 줄로 설명을 넣는 방법도 있다. 스스로 찾아보자!"
   ]
  },
  {
   "cell_type": "markdown",
   "metadata": {},
   "source": [
    "### 입력 예시\n",
    "실수 1개가 입력\n",
    "\n",
    "### 출력 예시\n",
    "입력받은 실수를 줄을 바꿔 3번 출력"
   ]
  },
  {
   "cell_type": "code",
   "execution_count": 6,
   "metadata": {},
   "outputs": [
    {
     "name": "stdout",
     "output_type": "stream",
     "text": [
      "1.1\n",
      "1.1\n",
      "1.1\n",
      "1.1\n"
     ]
    }
   ],
   "source": [
    "a = input()\n",
    "\n",
    "print(a)\n",
    "print(a)\n",
    "print(a)"
   ]
  },
  {
   "cell_type": "markdown",
   "metadata": {},
   "source": [
    "# 6015 : [기초-입출력] 정수 2개 입력받아 그대로 출력하기2(설명)(py)"
   ]
  },
  {
   "cell_type": "markdown",
   "metadata": {},
   "source": [
    "## 문제 설명\n",
    "공백을 두고 입력된정수(integer) 2개를 입력받아 줄을 바꿔 출력해보자.\n",
    "\n",
    "예시\n",
    "a, b = input().split()\n",
    "print(a)\n",
    "print(b)\n",
    "과 같은 방법으로 두 정수를 입력받아 출력할 수 있다.\n",
    "\n",
    "참고\n",
    "python의 input()은 한 줄 단위로 입력을 받는다.\n",
    "input().split() 를 사용하면, 공백을 기준으로 입력된 값들을 나누어(split) 자른다.\n",
    "a, b = 1, 2\n",
    "를 실행하면, a에는 1 b에는 2가 저장된다.\n",
    "(주의 : 하지만, 다른 일반적인 프로그래밍언어에서는 이러한 방법을 지원하지 않기 때문에 a=1, b=2 를 한 번에 하나씩 따로 실행시켜야 한다.)"
   ]
  },
  {
   "cell_type": "markdown",
   "metadata": {},
   "source": [
    "### 입력 예시\n",
    "2개의 정수가 공백으로 입력"
   ]
  },
  {
   "cell_type": "markdown",
   "metadata": {},
   "source": [
    "### 출력 예시\n",
    "입력된 두 정수를 줄을 바꿔 출력"
   ]
  },
  {
   "cell_type": "code",
   "execution_count": 1,
   "metadata": {},
   "outputs": [
    {
     "name": "stdout",
     "output_type": "stream",
     "text": [
      "1 2\n",
      "1\n",
      "2\n"
     ]
    }
   ],
   "source": [
    "a, b = map(int, input().split())\n",
    "\n",
    "print(a)\n",
    "print(b)"
   ]
  },
  {
   "cell_type": "markdown",
   "metadata": {},
   "source": [
    "# 6016 : [기초-입출력] 문자 2개 입력받아 순서 바꿔 출력하기2(설명)(py)# "
   ]
  },
  {
   "cell_type": "markdown",
   "metadata": {},
   "source": [
    "## 문제 설명\n",
    "공백을 두고 문자(character) 2개를 입력받아 순서를 바꿔 출력해보자.\n",
    "\n",
    "참고\n",
    "...\n",
    "print(c2, c1)\n",
    "와 같은 방법으로 출력하면, c1과 c2에 저장된 값이 공백을 두고 순서가 바뀌어 한 줄로 출력된다.\n",
    "print( ) 안에서 쉼표(,)를 찍어 순서대로 나열하면, 그 순서대로 공백을 두고 출력된다.\n"
   ]
  },
  {
   "cell_type": "markdown",
   "metadata": {},
   "source": [
    "## 입력 예시\n",
    "2개의 문자가 공백으로 구분되어 입력"
   ]
  },
  {
   "cell_type": "markdown",
   "metadata": {},
   "source": [
    "### 출력 예시\n",
    "2개의 문자을 순서를 바꿔 한 줄로 출력"
   ]
  },
  {
   "cell_type": "code",
   "execution_count": 2,
   "metadata": {},
   "outputs": [
    {
     "name": "stdout",
     "output_type": "stream",
     "text": [
      "j w\n",
      "w j\n"
     ]
    }
   ],
   "source": [
    "a, b = input().split()\n",
    "\n",
    "print(b, a)"
   ]
  },
  {
   "cell_type": "markdown",
   "metadata": {},
   "source": [
    "# 6017 : [기초-입출력] 문장 1개 입력받아 3번 출력하기(설명)(py)"
   ]
  },
  {
   "cell_type": "markdown",
   "metadata": {},
   "source": [
    "## 문제 설명\n",
    "정수(integer), 실수, 문자(character), 문자열(string) 등 1개만 입력받아 한 줄로 3번 출력해보자.\n",
    "\n",
    "예시\n",
    "s = input()\n",
    "print(s, s, s)  #공백으로 구분해 한 줄로 출력한다.\n",
    "와 같은 방법으로 3번 출력할 수 있다.\n",
    "\n",
    "참고\n",
    "python 언어에서는 문자/정수/실수/문자열 등 특별한 구분이 없이도 원하는 변수에 저장시켜 출력 할 수 있다.\n",
    "하지만, 저장된 값을 이용해 계산하거나 서로 붙여 연결시키거나 잘라내는 작업을 한다면?\n",
    "반드시 저장되어있는 값의 종류(문자/정수/실수/문자열 등)를 구분해 주어야 한다."
   ]
  },
  {
   "cell_type": "markdown",
   "metadata": {},
   "source": [
    "### 입력 예시\n",
    "1개의 데이터가 입력"
   ]
  },
  {
   "cell_type": "markdown",
   "metadata": {},
   "source": [
    "### 출력 예시\n",
    "공백을 두고 3번 출력"
   ]
  },
  {
   "cell_type": "code",
   "execution_count": 3,
   "metadata": {},
   "outputs": [
    {
     "name": "stdout",
     "output_type": "stream",
     "text": [
      "j\n",
      "j j j\n"
     ]
    }
   ],
   "source": [
    "a = input()\n",
    "\n",
    "print(a, a, a)"
   ]
  },
  {
   "cell_type": "markdown",
   "metadata": {},
   "source": [
    "# 6018 : [기초-입출력] 시간 입력받아 그대로 출력하기(설명)(py)"
   ]
  },
  {
   "cell_type": "markdown",
   "metadata": {},
   "source": [
    "## 문제 설명\n",
    "24시간 시:분 형식으로 시간이 입력될 때, 그대로 출력하는 연습을 해보자.\n",
    "\n",
    "예시\n",
    "a, b = input().split(':')\n",
    "print(a, b, sep=':')\n",
    "와 같은 방법으로 가능하다.\n",
    "\n",
    "참고   \n",
    "input().split(':') 를 사용하면 콜론 ':' 기호를 기준으로 자른다.\n",
    "print(?, ?, sep=':') 를 사용하면 콜론 ':' 기호를 사이에 두고 값을 출력한다.\n",
    "sep 는 분류기호(seperator)를 의미한다."
   ]
  },
  {
   "cell_type": "markdown",
   "metadata": {},
   "source": [
    "### 입력 예시\n",
    "시(hour) 분(minute)이 콜론(':')으로 구분되어 한 줄로 입력된다."
   ]
  },
  {
   "cell_type": "markdown",
   "metadata": {},
   "source": [
    "### 출력 예시\n",
    "입력받은 시간 형식과 똑같이 \"시:분\" 형태로 출력한다.\n"
   ]
  },
  {
   "cell_type": "code",
   "execution_count": 4,
   "metadata": {},
   "outputs": [
    {
     "name": "stdout",
     "output_type": "stream",
     "text": [
      "1:20\n",
      "1:20\n"
     ]
    }
   ],
   "source": [
    "a, b = input().split(':')\n",
    "\n",
    "print(a + ':' +b)"
   ]
  },
  {
   "cell_type": "markdown",
   "metadata": {},
   "source": [
    "# 6019 : [기초-입출력] 연월일 입력받아 순서 바꿔 출력하기(py)"
   ]
  },
  {
   "cell_type": "markdown",
   "metadata": {},
   "source": [
    "## 문제 설명\n",
    "\"연도.월.일\"을 입력받아 \"일-월-연도\" 순서로 바꿔 출력해보자.\n",
    "\n",
    "참고\n",
    "y, m, d = input().split('.')\n",
    "과 같이 변수들을 순서대로 나열하면 구분기호를 기준으로 잘라 순서대로 저장한다."
   ]
  },
  {
   "cell_type": "markdown",
   "metadata": {},
   "source": [
    "### 입력 예시\n",
    "연도, 월, 일이('.')으로 구분되어 입력"
   ]
  },
  {
   "cell_type": "markdown",
   "metadata": {},
   "source": [
    "### 출력 예시\n",
    "대시(마이너스 기호)를 구분기호로 사용해서\n",
    "일-월-연도로 바꿔 출력한다."
   ]
  },
  {
   "cell_type": "code",
   "execution_count": 5,
   "metadata": {},
   "outputs": [
    {
     "name": "stdout",
     "output_type": "stream",
     "text": [
      "2022.4.1\n",
      "1-4-2022\n"
     ]
    }
   ],
   "source": [
    "a, b, c = input().split('.')\n",
    "\n",
    "print(c, b, a, sep='-')"
   ]
  },
  {
   "cell_type": "markdown",
   "metadata": {},
   "source": [
    "# 6020 : [기초-입출력] 주민번호 입력받아 형태 바꿔 출력하기(py)"
   ]
  },
  {
   "cell_type": "markdown",
   "metadata": {},
   "source": [
    "## 문제 설명\n",
    "주민번호는 다음과 같이 구성된다.\n",
    "XXXXXX-XXXXXXX\n",
    "\n",
    "왼쪽 6자리는 생년월일(YYMMDD)이고, 오른쪽 7자리는 성별,출생지역,확인코드로 구성되어있다.\n",
    "주민번호를 입력받아 형태를 바꿔 출력해보자."
   ]
  },
  {
   "cell_type": "markdown",
   "metadata": {},
   "source": [
    "## 입력 예시\n",
    "주민번호 앞 6자리와 뒷 7자리가 '-'로 구분되어 입력된다.\n",
    "(입력값은 가상의 주민번호이다.)\n",
    "ex)110011-0000000"
   ]
  },
  {
   "cell_type": "markdown",
   "metadata": {},
   "source": [
    "### 출력 예시\n",
    "'-'를 제외한 주민번호 13자리를 모두 붙여 출력한다."
   ]
  },
  {
   "cell_type": "code",
   "execution_count": 6,
   "metadata": {},
   "outputs": [
    {
     "name": "stdout",
     "output_type": "stream",
     "text": [
      "920123-1234567\n",
      "9201231234567\n"
     ]
    }
   ],
   "source": [
    "a, b = input().split('-')\n",
    "\n",
    "print(str(a)+str(b))"
   ]
  },
  {
   "cell_type": "markdown",
   "metadata": {},
   "source": [
    "# 6021 : [기초-입출력] 단어 1개 입력받아 나누어 출력하기(설명)(py)"
   ]
  },
  {
   "cell_type": "markdown",
   "metadata": {},
   "source": [
    "## 문제 설명\n",
    "알파벳과 숫자로 이루어진 단어 1개가 입력된다.\n",
    "입력받은 단어의 각 문자를 한 줄에 한 문자씩 분리해 출력한다.\n",
    "\n",
    "예시\n",
    "s = input()\n",
    "print(s[0])\n",
    "print(s[1])\n",
    "...\n",
    "\n",
    "참고\n",
    "s[0] 은 첫 번째 문자를 의미한다."
   ]
  },
  {
   "cell_type": "markdown",
   "metadata": {},
   "source": [
    "### 입력 예시\n",
    "5개의 문자로 이루어진 단어 1개가 입력"
   ]
  },
  {
   "cell_type": "markdown",
   "metadata": {},
   "source": [
    "### 출력 예시\n",
    "각 문자를 한 줄에 한 문자씩 줄을 바꿔 출력한다."
   ]
  },
  {
   "cell_type": "code",
   "execution_count": 7,
   "metadata": {},
   "outputs": [
    {
     "name": "stdout",
     "output_type": "stream",
     "text": [
      "print\n",
      "p\n",
      "r\n",
      "i\n",
      "n\n",
      "t\n"
     ]
    }
   ],
   "source": [
    "a = input()\n",
    "\n",
    "for i in range(len(a)):\n",
    "    print(a[i])"
   ]
  },
  {
   "cell_type": "markdown",
   "metadata": {},
   "source": [
    "# 6022 : [기초-입출력] 연월일 입력받아 나누어 출력하기(설명)(py)"
   ]
  },
  {
   "cell_type": "markdown",
   "metadata": {},
   "source": [
    "## 문제 예시\n",
    "6자리의 연월일(YYMMDD)을 입력받아 나누어 출력해보자.\n",
    "\n",
    "참고\n",
    "s = input()   \n",
    "print(s[0:2])    \n",
    "    \n",
    "를 실행하면 0번째 문자부터 1번째 문자까지 잘라 출력한다.    \n",
    "s[a:b] 라고 하면, s라는 단어에서 a번째 문자부터 b-1번째 문자까지 잘라낸 부분을 의미한다.    \n",
    "다른 자르기 방법도 있다.     "
   ]
  },
  {
   "cell_type": "markdown",
   "metadata": {},
   "source": [
    "### 입력 예시\n",
    "6자리 숫자로 이루어진 연월일(YYMMDD)이 입력"
   ]
  },
  {
   "cell_type": "markdown",
   "metadata": {},
   "source": [
    "### 출력 예시\n",
    "년도(YY) 월(MM) 일(DD)을 공백으로 구분해 한 줄로 출력한다."
   ]
  },
  {
   "cell_type": "code",
   "execution_count": 8,
   "metadata": {},
   "outputs": [
    {
     "name": "stdout",
     "output_type": "stream",
     "text": [
      "920123\n",
      "92 01 23\n"
     ]
    }
   ],
   "source": [
    "a = str(input())\n",
    "\n",
    "print(a[:2], a[2:4], a[4:])"
   ]
  },
  {
   "cell_type": "markdown",
   "metadata": {},
   "source": [
    "# 6023 : [기초-입출력] 시분초 입력받아 분만 출력하기(py)"
   ]
  },
  {
   "cell_type": "markdown",
   "metadata": {},
   "source": [
    "## 문제 설명\n",
    "시:분:초 형식으로 시간이 입력될 때 분만 출력해보자.\n",
    "\n",
    "어떻게 분만 출력해야 할지 주의 깊게 생각해야한다."
   ]
  },
  {
   "cell_type": "markdown",
   "metadata": {},
   "source": [
    "### 입력 예시\n",
    "시 분 초가   \n",
    "시:분:초 형식으로 입력"
   ]
  },
  {
   "cell_type": "markdown",
   "metadata": {},
   "source": [
    "### 출력 예시\n",
    "분만 출력"
   ]
  },
  {
   "cell_type": "code",
   "execution_count": 9,
   "metadata": {},
   "outputs": [
    {
     "name": "stdout",
     "output_type": "stream",
     "text": [
      "11:22:33\n",
      "22\n"
     ]
    }
   ],
   "source": [
    "h, m, s = input().split(':')\n",
    "\n",
    "print(m)"
   ]
  },
  {
   "cell_type": "markdown",
   "metadata": {},
   "source": [
    "# 6024 : [기초-입출력] 단어 2개 입력받아 이어 붙이기(설명)(py)"
   ]
  },
  {
   "cell_type": "markdown",
   "metadata": {},
   "source": [
    "## 문제 설명\n",
    "알파벳 문자와 숫자로 이루어진 단어 2개를 입력받아   \n",
    "순서대로 붙여 출력하는 프로그램을 작성해보자.   \n",
    "\n",
    "예시    \n",
    "w1, w2 = input().split()    \n",
    "s = w1 + w2     \n",
    "print(s)     \n",
    "     \n",
    "참고     \n",
    "단어는 문자(character)들로 만든다.     \n",
    "문자들로 구성된 문장을 문자열(string)이라고 부른다.    \n",
    "문자열에는 공백문자(' ')가 포함될 수 있는데,     \n",
    "문자 1개는 길이가 1인 문자열이라고 할 수 있고, 공백문자(' ')가 없는 문자열은 단어(word)라고 할 수 있다.    \n",
    "\n",
    "일반적인 문장들은 공백으로 구분된 단어들로 만들어지기 때문에,    \n",
    "공백문자로 구분된 문장에서 단어를 잘라내기 위해서는 공백문자(' ')를 기준으로 자르면 된다.    \n",
    "키보드로 입력되는 것들은 기본적으로 문자열로 인식되고, 문자열끼리 더하기(+)를 실행하면,    \n",
    "두 문자열을 합쳐 연결한(concatenate) 결과를 만들어 낸다.     \n"
   ]
  },
  {
   "cell_type": "markdown",
   "metadata": {},
   "source": [
    "### 입력 예시\n",
    "알파벳과 숫자로 이루어진 2개의 단어가 공백으로 구분되어 입력"
   ]
  },
  {
   "cell_type": "markdown",
   "metadata": {},
   "source": [
    "### 출력 예시\n",
    "입력된 2개의 단어를 순서대로 붙여 출력"
   ]
  },
  {
   "cell_type": "code",
   "execution_count": 10,
   "metadata": {},
   "outputs": [
    {
     "name": "stdout",
     "output_type": "stream",
     "text": [
      "a 1\n",
      "a1\n"
     ]
    }
   ],
   "source": [
    "a, b = input().split()\n",
    "\n",
    "print(str(a)+str(b))"
   ]
  }
 ],
 "metadata": {
  "kernelspec": {
   "display_name": "Python 3",
   "language": "python",
   "name": "python3"
  },
  "language_info": {
   "codemirror_mode": {
    "name": "ipython",
    "version": 3
   },
   "file_extension": ".py",
   "mimetype": "text/x-python",
   "name": "python",
   "nbconvert_exporter": "python",
   "pygments_lexer": "ipython3",
   "version": "3.7.3"
  }
 },
 "nbformat": 4,
 "nbformat_minor": 5
}
