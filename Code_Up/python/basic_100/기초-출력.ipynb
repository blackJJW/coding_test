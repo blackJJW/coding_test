{
 "cells": [
  {
   "cell_type": "markdown",
   "id": "82131b40",
   "metadata": {},
   "source": [
    "# 6001 : [기초-출력] 출력하기01(설명)(py)\n"
   ]
  },
  {
   "cell_type": "markdown",
   "id": "d670e813",
   "metadata": {},
   "source": [
    "## 문제 설명\n",
    "\n",
    "python 언어에서 가장 기본적인 명령이 출력문이다.\n",
    "print( )를 이용해 다음 단어를 출력하시오.\n",
    "\n",
    "Hello\n",
    "\n",
    "예시  \n",
    "print(\"Hello\") \n",
    "\n",
    "참고\n",
    "python IDE 프로그램을 설치한 후,\n",
    "아래와 같은 소스 코드를 작성하고 실행시키면,\n",
    "지정한 \"문장\"이 출력(print)된다.\n",
    "print(\"문장\") "
   ]
  },
  {
   "cell_type": "markdown",
   "id": "61a3ff04",
   "metadata": {},
   "source": [
    "### 입력 예시\n",
    "없음\n",
    "\n",
    "### 출력 예시\n",
    "Hello"
   ]
  },
  {
   "cell_type": "code",
   "execution_count": 29,
   "id": "c4d536af",
   "metadata": {
    "scrolled": true
   },
   "outputs": [
    {
     "name": "stdout",
     "output_type": "stream",
     "text": [
      "Hello\n"
     ]
    }
   ],
   "source": [
    "print(\"Hello\")"
   ]
  },
  {
   "cell_type": "markdown",
   "id": "c5554c69",
   "metadata": {},
   "source": [
    "#  6002 : [기초-출력] 출력하기02(설명)(py)\n"
   ]
  },
  {
   "cell_type": "markdown",
   "id": "b2243e32",
   "metadata": {},
   "source": [
    "## 문제 설명\n",
    "\n",
    "이번에는 공백( )을 포함한 문장을 출력한다.\n",
    "다음 문장을 출력해보자.\n",
    "\n",
    "Hello World  \n",
    "(대소문자에 주의한다.)\n",
    "\n",
    "참고  \n",
    "print(\"문장1 문장2\")  \n",
    "을 실행시키면 \"문장1”, \"문장2\"가 공백( )을 사이에 두고 출력된다.\n",
    "print(\"문장1\", \"문장2\")  \n",
    "도 \"문장1\"과 \"문장2\" 사이에 공백( )을 출력한다."
   ]
  },
  {
   "cell_type": "markdown",
   "id": "ce88d804",
   "metadata": {},
   "source": [
    "### 입력 예시\n",
    "없음"
   ]
  },
  {
   "cell_type": "markdown",
   "id": "acd43608",
   "metadata": {},
   "source": [
    "### 출력 예시\n",
    "Hello World"
   ]
  },
  {
   "cell_type": "code",
   "execution_count": 30,
   "id": "a1aee0a9",
   "metadata": {},
   "outputs": [
    {
     "name": "stdout",
     "output_type": "stream",
     "text": [
      "Hello World\n"
     ]
    }
   ],
   "source": [
    "print(\"Hello World\")"
   ]
  },
  {
   "cell_type": "markdown",
   "id": "b9423c7a",
   "metadata": {},
   "source": [
    "# 6003 : [기초-출력] 출력하기03(설명)(py)"
   ]
  },
  {
   "cell_type": "markdown",
   "id": "8675243b",
   "metadata": {},
   "source": [
    "## 문제 설명\n",
    "이번에는 줄을 바꿔 출력하는 출력문을 연습해보자.\n",
    "다음과 같이 줄을 바꿔 출력해야 한다.\n",
    "\n",
    "Hello  \n",
    "World  \n",
    "(두 줄에 걸쳐 줄을 바꿔 출력)\n",
    "\n",
    "예시  \n",
    "print(\"Hello\")  \n",
    "print(\"World\")  \n",
    "\n",
    "참고  \n",
    "python의 기본 print( ) 를 이용해 출력하면 문장을 출력한 후 마지막에 줄을 바꾼다.(new line)\n",
    "출력 후 줄을 바꾸는 대신 스페이스( ) 공백을 붙이도록 설정하는 방법도 있다.\n"
   ]
  },
  {
   "cell_type": "markdown",
   "id": "bbf545d9",
   "metadata": {},
   "source": [
    "### 입력 예시\n",
    "없음\n",
    "\n",
    "### 출력 예시\n",
    "Hello\n",
    "\n",
    "World"
   ]
  },
  {
   "cell_type": "code",
   "execution_count": 31,
   "id": "ac34c268",
   "metadata": {},
   "outputs": [
    {
     "name": "stdout",
     "output_type": "stream",
     "text": [
      "Hello\n",
      "World\n"
     ]
    }
   ],
   "source": [
    "print(\"Hello\")\n",
    "print(\"World\")"
   ]
  },
  {
   "cell_type": "markdown",
   "id": "9d526af7",
   "metadata": {},
   "source": [
    "# 6004 : [기초-출력] 출력하기04(설명)(py) "
   ]
  },
  {
   "cell_type": "markdown",
   "id": "274a7472",
   "metadata": {},
   "source": [
    "## 문제 설명\n",
    "이번에는 작은 따옴표(')(single quotation mark)가 들어있는\n",
    "출력문 연습을 해보자.\n",
    "\n",
    "다음 문장을 출력하시오.\n",
    "\n",
    "'Hello'\n",
    "\n",
    "예시  \n",
    "print(\" ' \");"
   ]
  },
  {
   "cell_type": "markdown",
   "id": "b7096dd0",
   "metadata": {},
   "source": [
    "### 입력 예시\n",
    "없음\n",
    "\n",
    "### 출력 예시\n",
    "'Hello'"
   ]
  },
  {
   "cell_type": "code",
   "execution_count": 32,
   "id": "6fd9e0b6",
   "metadata": {},
   "outputs": [
    {
     "name": "stdout",
     "output_type": "stream",
     "text": [
      "'Hello'\n"
     ]
    }
   ],
   "source": [
    "print(\"\\'Hello\\'\")"
   ]
  },
  {
   "cell_type": "markdown",
   "id": "baae327e",
   "metadata": {},
   "source": [
    "# 6005 : [기초-출력] 출력하기05(설명)(py)"
   ]
  },
  {
   "cell_type": "markdown",
   "id": "749e3a41",
   "metadata": {},
   "source": [
    "## 문제 설명\n",
    "이번에는 큰따옴표(\")(double quotation mark)가 포함된 출력문을 연습해보자.\n",
    "\n",
    "다음 문장을 출력하시오.\n",
    "\n",
    "\"Hello World\"\n",
    "(단, 큰따옴표도 함께 출력한다.)\n",
    "\n",
    "예시\n",
    "print(' \" ');"
   ]
  },
  {
   "cell_type": "markdown",
   "id": "cca0cc09",
   "metadata": {},
   "source": [
    "### 입력 예시\n",
    "없음\n",
    "\n",
    "### 출력 예시\n",
    "\"Hello World\""
   ]
  },
  {
   "cell_type": "code",
   "execution_count": 33,
   "id": "95dbb6f2",
   "metadata": {},
   "outputs": [
    {
     "name": "stdout",
     "output_type": "stream",
     "text": [
      "\"Hello World\"\n"
     ]
    }
   ],
   "source": [
    "print(\"\\\"Hello World\\\"\")"
   ]
  },
  {
   "cell_type": "markdown",
   "id": "9020a6e9",
   "metadata": {},
   "source": [
    "# 6006 : [기초-출력] 출력하기06(py)"
   ]
  },
  {
   "cell_type": "markdown",
   "id": "168ca859",
   "metadata": {},
   "source": [
    "## 문제 설명\n",
    "이번에는 특수문자 출력에 도전하자!!\n",
    "\n",
    "다음 문장을 출력하시오.\n",
    "\n",
    "\"!@#$%^&*()'\n",
    "(단, 큰따옴표와 작은따옴표도 함께 출력한다.)\n",
    "\n",
    " \n",
    "\n",
    "출력 형식에 필요한 따옴표와 출력할 문자인 따옴표를 구분하기 위하여\n",
    "\n",
    "\\\" 또는 \\' 를 이용하여 출력할 수 있다."
   ]
  },
  {
   "cell_type": "markdown",
   "id": "a55cd98d",
   "metadata": {},
   "source": [
    "### 입력 예시\n",
    "없음\n",
    "\n",
    "### 출력 예시\n",
    "\"!@#$%^&*()'"
   ]
  },
  {
   "cell_type": "code",
   "execution_count": 34,
   "id": "ccea8946",
   "metadata": {},
   "outputs": [
    {
     "name": "stdout",
     "output_type": "stream",
     "text": [
      "\"!@#$%^&*()'\n"
     ]
    }
   ],
   "source": [
    "print(\"\\\"!@#$%^&*()\\'\")"
   ]
  },
  {
   "cell_type": "markdown",
   "id": "f5454c23",
   "metadata": {},
   "source": [
    "# 6007 : [기초-출력] 출력하기07(py)"
   ]
  },
  {
   "cell_type": "markdown",
   "id": "67dc0cd3",
   "metadata": {},
   "source": [
    "## 문제 설명\n",
    "윈도우 운영체제의 파일 경로를 출력하는 연습을 해보자.\n",
    " \n",
    "파일 경로에는 특수문자들이 포함된다.\n",
    "\n",
    "다음 경로를 출력하시오.\n",
    "\n",
    "\"C:\\Download\\'hello'.py\"\n",
    "(단, 따옴표도 함께 출력한다.)\n",
    "\n",
    " \n",
    "\n",
    "\\도 안전하게 출력하려면 \\\\를 사용하는 것이 좋다."
   ]
  },
  {
   "cell_type": "markdown",
   "id": "4cfcdc0a",
   "metadata": {},
   "source": [
    "### 입력 예시\n",
    "없음\n",
    "\n",
    "### 출력 예시\n",
    "\"C:\\Download\\'hello'.py\"\n"
   ]
  },
  {
   "cell_type": "code",
   "execution_count": 35,
   "id": "1fc378cc",
   "metadata": {},
   "outputs": [
    {
     "name": "stdout",
     "output_type": "stream",
     "text": [
      "\"C:\\Download\\'hello'.py\"\n"
     ]
    }
   ],
   "source": [
    "print(\"\\\"C:\\Download\\\\'hello\\'.py\\\"\")"
   ]
  },
  {
   "cell_type": "markdown",
   "id": "b55b5de3",
   "metadata": {},
   "source": [
    "# 6008 : [기초-출력] 출력하기08(py)"
   ]
  },
  {
   "cell_type": "markdown",
   "id": "eda2cc6c",
   "metadata": {},
   "source": [
    "## 문제 설명\n",
    "출력문 연습의 마지막 문제이다.\n",
    "(생각과 시도를 많이 해야하는 문제들은 한 두 문제씩 넘겼다가 나중에 풀어보면 된다.)\n",
    "\n",
    "이번에는 다음과 같은 python프로그램의 소스코드를 출력해보자.\n",
    "\n",
    "print(\"Hello\\nWorld\")\n",
    "\n",
    "위 코드를 정확히 그대로 출력하시오.(공백문자 주의)\n",
    "\n",
    " \n",
    "\n",
    "print 명령 안에 서식 문자로 \\n을 사용하면 줄 바꿈(new line) 문자로 사용된다.\n",
    "\n",
    "그렇다면 \\n을 화면에 그대로 출력하려면 어떻게 해야될까?"
   ]
  },
  {
   "cell_type": "markdown",
   "id": "dff4066c",
   "metadata": {},
   "source": [
    "### 입력 예시\n",
    "없음\n",
    "\n",
    "### 출력 예시\n",
    "print(\"Hello\\nWorld\")"
   ]
  },
  {
   "cell_type": "code",
   "execution_count": 36,
   "id": "7e328635",
   "metadata": {},
   "outputs": [
    {
     "name": "stdout",
     "output_type": "stream",
     "text": [
      "print(\"Hello\\nWorld\")\n"
     ]
    }
   ],
   "source": [
    "print(\"print(\\\"Hello\\\\nWorld\\\")\")"
   ]
  }
 ],
 "metadata": {
  "kernelspec": {
   "display_name": "Python 3 (ipykernel)",
   "language": "python",
   "name": "python3"
  },
  "language_info": {
   "codemirror_mode": {
    "name": "ipython",
    "version": 3
   },
   "file_extension": ".py",
   "mimetype": "text/x-python",
   "name": "python",
   "nbconvert_exporter": "python",
   "pygments_lexer": "ipython3",
   "version": "3.9.7"
  }
 },
 "nbformat": 4,
 "nbformat_minor": 5
}
